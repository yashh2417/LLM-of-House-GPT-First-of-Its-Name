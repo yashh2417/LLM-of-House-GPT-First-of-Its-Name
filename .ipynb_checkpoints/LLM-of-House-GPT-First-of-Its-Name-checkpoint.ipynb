{
 "cells": [
  {
   "cell_type": "code",
   "execution_count": 1,
   "id": "ac9ca942-8c42-4165-bf75-a06153aa1042",
   "metadata": {},
   "outputs": [
    {
     "name": "stdout",
     "output_type": "stream",
     "text": [
      "5662324\n"
     ]
    }
   ],
   "source": [
    "with open(\"gameofthrones.txt\", \"r\") as f:\n",
    "    text = f.read()\n",
    "\n",
    "print(len(text))"
   ]
  },
  {
   "cell_type": "code",
   "execution_count": 2,
   "id": "304a71cc-a772-4e85-b3e2-249df828892b",
   "metadata": {},
   "outputs": [
    {
     "name": "stdout",
     "output_type": "stream",
     "text": [
      "Requirement already satisfied: tiktoken in /Users/yash/Library/LLM_from_scratch/llm/lib/python3.10/site-packages (0.9.0)\n",
      "Requirement already satisfied: regex>=2022.1.18 in /Users/yash/Library/LLM_from_scratch/llm/lib/python3.10/site-packages (from tiktoken) (2024.11.6)\n",
      "Requirement already satisfied: requests>=2.26.0 in /Users/yash/Library/LLM_from_scratch/llm/lib/python3.10/site-packages (from tiktoken) (2.32.3)\n",
      "Requirement already satisfied: charset-normalizer<4,>=2 in /Users/yash/Library/LLM_from_scratch/llm/lib/python3.10/site-packages (from requests>=2.26.0->tiktoken) (3.4.2)\n",
      "Requirement already satisfied: idna<4,>=2.5 in /Users/yash/Library/LLM_from_scratch/llm/lib/python3.10/site-packages (from requests>=2.26.0->tiktoken) (3.10)\n",
      "Requirement already satisfied: urllib3<3,>=1.21.1 in /Users/yash/Library/LLM_from_scratch/llm/lib/python3.10/site-packages (from requests>=2.26.0->tiktoken) (2.4.0)\n",
      "Requirement already satisfied: certifi>=2017.4.17 in /Users/yash/Library/LLM_from_scratch/llm/lib/python3.10/site-packages (from requests>=2.26.0->tiktoken) (2025.4.26)\n"
     ]
    }
   ],
   "source": [
    "!pip install tiktoken"
   ]
  },
  {
   "cell_type": "code",
   "execution_count": 3,
   "id": "0a181718-2abe-4293-9b20-4830067ce34d",
   "metadata": {},
   "outputs": [],
   "source": [
    "import tiktoken\n",
    "\n",
    "tokenizer = tiktoken.get_encoding(\"gpt2\")"
   ]
  },
  {
   "cell_type": "code",
   "execution_count": 4,
   "id": "33fd50f2-8dae-40e0-94e6-78add0a52c94",
   "metadata": {},
   "outputs": [
    {
     "name": "stdout",
     "output_type": "stream",
     "text": [
      "1574278\n"
     ]
    }
   ],
   "source": [
    "integers = tokenizer.encode(text)\n",
    "print(len(integers))"
   ]
  },
  {
   "cell_type": "code",
   "execution_count": 5,
   "id": "4a81514b-3c9a-4c66-8dd1-8209cd81da4f",
   "metadata": {},
   "outputs": [
    {
     "name": "stdout",
     "output_type": "stream",
     "text": [
      "5662324\n"
     ]
    }
   ],
   "source": [
    "text_d = tokenizer.decode(integers)\n",
    "print(len(text_d))"
   ]
  },
  {
   "cell_type": "code",
   "execution_count": null,
   "id": "e7a3b012-d39d-4365-878d-06bc137fed46",
   "metadata": {},
   "outputs": [],
   "source": []
  }
 ],
 "metadata": {
  "kernelspec": {
   "display_name": "Python 3 (ipykernel)",
   "language": "python",
   "name": "python3"
  },
  "language_info": {
   "codemirror_mode": {
    "name": "ipython",
    "version": 3
   },
   "file_extension": ".py",
   "mimetype": "text/x-python",
   "name": "python",
   "nbconvert_exporter": "python",
   "pygments_lexer": "ipython3",
   "version": "3.11.3"
  }
 },
 "nbformat": 4,
 "nbformat_minor": 5
}
